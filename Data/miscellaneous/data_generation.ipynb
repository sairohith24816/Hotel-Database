{
 "cells": [
  {
   "cell_type": "code",
   "execution_count": 48,
   "id": "81296841",
   "metadata": {},
   "outputs": [
    {
     "name": "stdout",
     "output_type": "stream",
     "text": [
      "Generated 900 rooms\n",
      "\n",
      "Room distribution per floor:\n",
      "Room 00: Presidential (1 room)\n",
      "Rooms 01-10: Suite (10 rooms)\n",
      "Rooms 11-20: Deluxe (10 rooms)\n",
      "Rooms 21-40: Single (20 rooms)\n",
      "Rooms 41-99: Double (59 rooms)\n",
      "Total per floor: 100 rooms\n",
      "Total floors: 9\n",
      "Total rooms: 900\n"
     ]
    }
   ],
   "source": [
    "import csv\n",
    "import random\n",
    "\n",
    "def generate_room_data():\n",
    "    rooms = []\n",
    "    \n",
    "    # Room type distribution per floor:\n",
    "    # Room 00: Presidential (1 room)\n",
    "    # Rooms 01-10: Suite (10 rooms)\n",
    "    # Rooms 11-20: Deluxe (10 rooms)  \n",
    "    # Rooms 21-40: Single (20 rooms)\n",
    "    # Rooms 41-99: Double (59 rooms)\n",
    "    \n",
    "    for floor in range(1, 10):  # Floors 1-9\n",
    "        for room_num in range(0, 100):  # Room numbers 00-99\n",
    "            room_id = int(f\"{floor}{room_num:02d}\")  # Format: floor + 2-digit room number\n",
    "            \n",
    "            # Determine room type based on room number\n",
    "            if room_num == 0:\n",
    "                room_type = \"Presidential\"\n",
    "            elif 1 <= room_num <= 10:\n",
    "                room_type = \"Suite\"\n",
    "            elif 11 <= room_num <= 20:\n",
    "                room_type = \"Deluxe\"\n",
    "            elif 21 <= room_num <= 40:\n",
    "                room_type = \"Single\"\n",
    "            elif 41 <= room_num <= 99:\n",
    "                room_type = \"Double\"\n",
    "            \n",
    "            # 60% Available, 40% Occupied\n",
    "            status = \"Available\" if random.random() < 0.2 else \"Occupied\"\n",
    "            \n",
    "            rooms.append([room_id, room_type, status])\n",
    "    \n",
    "    return rooms\n",
    "\n",
    "def save_to_csv(rooms, filename):\n",
    "    with open(filename, 'w', newline='', encoding='utf-8') as file:\n",
    "        writer = csv.writer(file)\n",
    "        writer.writerow(['RoomID', 'RoomType', 'Status'])  # Header\n",
    "        writer.writerows(rooms)\n",
    "\n",
    "# Generate room data\n",
    "room_data = generate_room_data()\n",
    "\n",
    "print(f\"Generated {len(room_data)} rooms\")\n",
    "print(\"\\nRoom distribution per floor:\")\n",
    "print(\"Room 00: Presidential (1 room)\")\n",
    "print(\"Rooms 01-10: Suite (10 rooms)\")\n",
    "print(\"Rooms 11-20: Deluxe (10 rooms)\")\n",
    "print(\"Rooms 21-40: Single (20 rooms)\")\n",
    "print(\"Rooms 41-99: Double (59 rooms)\")\n",
    "print(\"Total per floor: 100 rooms\")\n",
    "print(\"Total floors: 9\")\n",
    "print(f\"Total rooms: {len(room_data)}\")"
   ]
  },
  {
   "cell_type": "code",
   "execution_count": 49,
   "id": "ee983724",
   "metadata": {},
   "outputs": [
    {
     "name": "stdout",
     "output_type": "stream",
     "text": [
      "Room data saved to room_data.csv successfully!\n",
      "Total rooms saved: 900\n"
     ]
    }
   ],
   "source": [
    "# Save the room_data to CSV file\n",
    "save_to_csv(room_data, 'room_data.csv')\n",
    "print(f\"Room data saved to room_data.csv successfully!\")\n",
    "print(f\"Total rooms saved: {len(room_data)}\")"
   ]
  }
 ],
 "metadata": {
  "kernelspec": {
   "display_name": "Python 3",
   "language": "python",
   "name": "python3"
  },
  "language_info": {
   "codemirror_mode": {
    "name": "ipython",
    "version": 3
   },
   "file_extension": ".py",
   "mimetype": "text/x-python",
   "name": "python",
   "nbconvert_exporter": "python",
   "pygments_lexer": "ipython3",
   "version": "3.12.9"
  }
 },
 "nbformat": 4,
 "nbformat_minor": 5
}
